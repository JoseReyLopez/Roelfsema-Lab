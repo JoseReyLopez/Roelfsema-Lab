{
 "cells": [
  {
   "cell_type": "code",
   "execution_count": 1,
   "metadata": {},
   "outputs": [],
   "source": [
    "import torch\n",
    "from lucent.modelzoo import vgg19, inceptionv1\n",
    "from glob import glob\n",
    "import numpy as np\n",
    "import matplotlib.pyplot as plt"
   ]
  },
  {
   "cell_type": "code",
   "execution_count": 2,
   "metadata": {},
   "outputs": [
    {
     "name": "stdout",
     "output_type": "stream",
     "text": [
      "Results_no_transform/Cadena_Vgg/Cadena_Vgg_roi_16_layer_30.npy\n"
     ]
    }
   ],
   "source": [
    "npy_test = sorted(glob('Results_no_transform/Cadena_Vgg/Cadena_Vgg_roi_16_layer_30.npy'))[0]\n",
    "print(npy_test)\n",
    "img_test1 = np.load(npy_test)[1,:]"
   ]
  },
  {
   "cell_type": "code",
   "execution_count": 3,
   "metadata": {},
   "outputs": [
    {
     "name": "stdout",
     "output_type": "stream",
     "text": [
      "(128, 128, 3)\n",
      "(128, 128, 3)\n",
      "(128, 128, 3)\n"
     ]
    }
   ],
   "source": [
    "print(img_test1.shape)\n",
    "img_test = img_test1.transpose(2,0,1)\n",
    "print(img_test1.shape)\n",
    "img_test = img_test.transpose(1, 2,0)\n",
    "print(img_test1.shape)"
   ]
  },
  {
   "cell_type": "code",
   "execution_count": 5,
   "metadata": {},
   "outputs": [
    {
     "name": "stderr",
     "output_type": "stream",
     "text": [
      "/home/jose/anaconda3/lib/python3.9/site-packages/torchvision/models/_utils.py:208: UserWarning: The parameter 'pretrained' is deprecated since 0.13 and may be removed in the future, please use 'weights' instead.\n",
      "  warnings.warn(\n",
      "/home/jose/anaconda3/lib/python3.9/site-packages/torchvision/models/_utils.py:223: UserWarning: Arguments other than a weight enum or `None` for 'weights' are deprecated since 0.13 and may be removed in the future. The current behavior is equivalent to passing `weights=VGG19_Weights.IMAGENET1K_V1`. You can also use `weights=VGG19_Weights.DEFAULT` to get the most up-to-date weights.\n",
      "  warnings.warn(msg)\n"
     ]
    }
   ],
   "source": [
    "vgg = vgg19(pretrained = True)\n",
    "iv1 = inceptionv1(pretrained = True)"
   ]
  },
  {
   "cell_type": "code",
   "execution_count": 8,
   "metadata": {},
   "outputs": [
    {
     "data": {
      "text/plain": [
       "torch.Size([1008])"
      ]
     },
     "execution_count": 8,
     "metadata": {},
     "output_type": "execute_result"
    }
   ],
   "source": [
    "iv1(torch.rand(1,3,224,224)).squeeze().shape"
   ]
  },
  {
   "cell_type": "code",
   "execution_count": 15,
   "metadata": {},
   "outputs": [
    {
     "name": "stderr",
     "output_type": "stream",
     "text": [
      "/tmp/ipykernel_2788/1093540369.py:2: UserWarning: Implicit dimension choice for softmax has been deprecated. Change the call to include dim=X as an argument.\n",
      "  max = torch.argmax(torch.nn.functional.softmax(results)).numpy()\n",
      "/tmp/ipykernel_2788/1093540369.py:4: UserWarning: Implicit dimension choice for softmax has been deprecated. Change the call to include dim=X as an argument.\n",
      "  max_softmax = float(np.array(torch.nn.functional.softmax(results)[0, max].detach().numpy()))\n"
     ]
    }
   ],
   "source": [
    "results = vgg(torch.Tensor(img_test.transpose(2,0,1)).unsqueeze(0))\n",
    "max = torch.argmax(torch.nn.functional.softmax(results)).numpy()\n",
    "\n",
    "max_softmax = float(np.array(torch.nn.functional.softmax(results)[0, max].detach().numpy()))\n",
    "label_max = open('imagenet1000_labels.txt').readlines()[max]"
   ]
  },
  {
   "cell_type": "code",
   "execution_count": 16,
   "metadata": {},
   "outputs": [
    {
     "name": "stdout",
     "output_type": "stream",
     "text": [
      "0.9949449896812439    -----     373: 'macaque',\n",
      "\n"
     ]
    }
   ],
   "source": [
    "print(max_softmax, '   -----   ', label_max)"
   ]
  },
  {
   "cell_type": "code",
   "execution_count": null,
   "metadata": {},
   "outputs": [],
   "source": []
  }
 ],
 "metadata": {
  "kernelspec": {
   "display_name": "base",
   "language": "python",
   "name": "python3"
  },
  "language_info": {
   "codemirror_mode": {
    "name": "ipython",
    "version": 3
   },
   "file_extension": ".py",
   "mimetype": "text/x-python",
   "name": "python",
   "nbconvert_exporter": "python",
   "pygments_lexer": "ipython3",
   "version": "3.9.13"
  },
  "orig_nbformat": 4,
  "vscode": {
   "interpreter": {
    "hash": "b1ebba55313e133a64a1b90f6812a303e776c8bfea60a3ce9dccd29ed02aed0a"
   }
  }
 },
 "nbformat": 4,
 "nbformat_minor": 2
}
