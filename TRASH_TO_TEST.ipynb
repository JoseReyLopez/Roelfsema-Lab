{
 "cells": [
  {
   "cell_type": "code",
   "execution_count": 1,
   "metadata": {},
   "outputs": [],
   "source": [
    "from autoload_models import *"
   ]
  },
  {
   "cell_type": "code",
   "execution_count": 2,
   "metadata": {},
   "outputs": [
    {
     "data": {
      "text/plain": [
       "'/home/jose/Desktop/lucent-things/Results_Bashivan_Inception/ROI_3_Layer_mixed5a/ROI_3_Layer_mixed5a_0_Inception/Bashivan_Inception_3_mixed5a_epoch_13_loss_0.1333842394541893_smoothweight_0.01_sparseweight_1e-08_weightdecay_0.001.pt'"
      ]
     },
     "execution_count": 2,
     "metadata": {},
     "output_type": "execute_result"
    }
   ],
   "source": [
    "FindLowestBashivanModelInception(3, 'mixed5a')"
   ]
  },
  {
   "cell_type": "code",
   "execution_count": 6,
   "metadata": {},
   "outputs": [
    {
     "data": {
      "text/plain": [
       "'/home/jose/Desktop/lucent-things/Results_Bashivan_Vgg/ROI_3_Layer_10/ROI_3_Layer_10_0/Bashivan_Vgg_3_10_epoch_12_loss_0.08944599568044988_smoothweight_0.01_sparseweight_1e-08_weightdecay_0.001.pt'"
      ]
     },
     "execution_count": 6,
     "metadata": {},
     "output_type": "execute_result"
    }
   ],
   "source": [
    "FindLowestBashivanModelVgg(3, 10)"
   ]
  },
  {
   "cell_type": "code",
   "execution_count": 7,
   "metadata": {},
   "outputs": [
    {
     "data": {
      "text/plain": [
       "'/home/jose/Desktop/lucent-things/Results_Cadena_Inception/ROI_10_Layer_conv2d2/ROI_10_Layer_conv2d2_0_/Inception_model_10_conv2d2_epoch_8_loss_0.10019534137015827_sparsity_0.01_smoothness_0.1_groupsparsity_0.001.pt'"
      ]
     },
     "execution_count": 7,
     "metadata": {},
     "output_type": "execute_result"
    }
   ],
   "source": [
    "FindLowestCadenaModelInception(10, 'conv2d2')"
   ]
  },
  {
   "cell_type": "code",
   "execution_count": 8,
   "metadata": {},
   "outputs": [
    {
     "data": {
      "text/plain": [
       "'/home/jose/Desktop/lucent-things/Results_Cadena_Vgg/ROI_10_Layer_12/ROI_10_Layer_12_0_Vgg/Vgg_model_10_12_epoch_9_loss_0.19151701668520363_sparsity_0.001_smoothness_0.001_groupsparsity_0.01.pt'"
      ]
     },
     "execution_count": 8,
     "metadata": {},
     "output_type": "execute_result"
    }
   ],
   "source": [
    "FindLowestCadenaModelVgg(10, 12)"
   ]
  },
  {
   "cell_type": "code",
   "execution_count": 11,
   "metadata": {},
   "outputs": [
    {
     "name": "stdout",
     "output_type": "stream",
     "text": [
      "conv2d2\n",
      "RedirectedReluLayer()\n",
      "/home/jose/Desktop/lucent-things/Results_Bashivan_Inception/ROI_3_Layer_conv2d2/ROI_3_Layer_conv2d2_0_Inception/Bashivan_Inception_3_conv2d2_epoch_15_loss_0.11123535863014508_smoothweight_0.01_sparseweight_1e-08_weightdecay_0.001.pt\n",
      "\n",
      "\n",
      "Loaded Bashivan_Inception_3_conv2d2_epoch_15_loss_0.11123535863014508_smoothweight_0.01_sparseweight_1e-08_weightdecay_0.001.pt\n"
     ]
    }
   ],
   "source": [
    "net = BashivanInception(3, 'conv2d2')"
   ]
  },
  {
   "cell_type": "code",
   "execution_count": 13,
   "metadata": {},
   "outputs": [],
   "source": [
    "import numpy as np"
   ]
  },
  {
   "cell_type": "code",
   "execution_count": 12,
   "metadata": {},
   "outputs": [],
   "source": [
    "net = net.cuda()"
   ]
  },
  {
   "cell_type": "code",
   "execution_count": null,
   "metadata": {},
   "outputs": [],
   "source": []
  },
  {
   "cell_type": "code",
   "execution_count": null,
   "metadata": {},
   "outputs": [],
   "source": []
  },
  {
   "cell_type": "code",
   "execution_count": null,
   "metadata": {},
   "outputs": [],
   "source": []
  },
  {
   "cell_type": "code",
   "execution_count": null,
   "metadata": {},
   "outputs": [],
   "source": []
  },
  {
   "cell_type": "code",
   "execution_count": null,
   "metadata": {},
   "outputs": [],
   "source": []
  },
  {
   "cell_type": "code",
   "execution_count": null,
   "metadata": {},
   "outputs": [],
   "source": []
  },
  {
   "cell_type": "code",
   "execution_count": null,
   "metadata": {},
   "outputs": [],
   "source": []
  },
  {
   "cell_type": "code",
   "execution_count": null,
   "metadata": {},
   "outputs": [],
   "source": []
  },
  {
   "cell_type": "code",
   "execution_count": null,
   "metadata": {},
   "outputs": [],
   "source": []
  },
  {
   "cell_type": "code",
   "execution_count": null,
   "metadata": {},
   "outputs": [],
   "source": []
  },
  {
   "cell_type": "code",
   "execution_count": null,
   "metadata": {},
   "outputs": [],
   "source": []
  },
  {
   "cell_type": "code",
   "execution_count": null,
   "metadata": {},
   "outputs": [],
   "source": []
  },
  {
   "cell_type": "code",
   "execution_count": null,
   "metadata": {},
   "outputs": [],
   "source": []
  },
  {
   "cell_type": "code",
   "execution_count": null,
   "metadata": {},
   "outputs": [],
   "source": []
  },
  {
   "cell_type": "code",
   "execution_count": null,
   "metadata": {},
   "outputs": [],
   "source": []
  },
  {
   "cell_type": "code",
   "execution_count": null,
   "metadata": {},
   "outputs": [],
   "source": []
  },
  {
   "cell_type": "code",
   "execution_count": 58,
   "metadata": {},
   "outputs": [
    {
     "ename": "NameError",
     "evalue": "name 'VggShape' is not defined",
     "output_type": "error",
     "traceback": [
      "\u001b[1;31m---------------------------------------------------------------------------\u001b[0m",
      "\u001b[1;31mNameError\u001b[0m                                 Traceback (most recent call last)",
      "\u001b[1;32mc:\\Users\\lopez\\Desktop\\lucent-things\\TRASH_TO_TEST.ipynb Cell 1'\u001b[0m in \u001b[0;36m<cell line: 40>\u001b[1;34m()\u001b[0m\n\u001b[0;32m     <a href='vscode-notebook-cell:/c%3A/Users/lopez/Desktop/lucent-things/TRASH_TO_TEST.ipynb#ch0000000?line=35'>36</a>\u001b[0m         \u001b[39mreturn\u001b[39;00m \u001b[39mself\u001b[39m\u001b[39m.\u001b[39mw_shape\n\u001b[0;32m     <a href='vscode-notebook-cell:/c%3A/Users/lopez/Desktop/lucent-things/TRASH_TO_TEST.ipynb#ch0000000?line=38'>39</a>\u001b[0m vgg_pretrained \u001b[39m=\u001b[39m inceptionv1(pretrained \u001b[39m=\u001b[39m \u001b[39mTrue\u001b[39;00m)\n\u001b[1;32m---> <a href='vscode-notebook-cell:/c%3A/Users/lopez/Desktop/lucent-things/TRASH_TO_TEST.ipynb#ch0000000?line=39'>40</a>\u001b[0m vgge \u001b[39m=\u001b[39m VggShape(vgg_pretrained)\n\u001b[0;32m     <a href='vscode-notebook-cell:/c%3A/Users/lopez/Desktop/lucent-things/TRASH_TO_TEST.ipynb#ch0000000?line=40'>41</a>\u001b[0m sw \u001b[39m=\u001b[39m vgge\u001b[39m.\u001b[39mshape()\n",
      "\u001b[1;31mNameError\u001b[0m: name 'VggShape' is not defined"
     ]
    }
   ],
   "source": [
    "import torch\n",
    "from torch import nn, Tensor\n",
    "import torch.nn.functional as F\n",
    "from helper import makeGaussian, FeatureExtractor, fix_parameters, load_sta\n",
    "from lucent.modelzoo import vgg19, util\n",
    "import matplotlib.pyplot as plt\n",
    "import numpy as np\n",
    "\n",
    "class VggShape(nn.Module):\n",
    "\n",
    "    def __init__(self, pretrained_model, conv_layer = 0, num_neurons = 43, device = None):\n",
    "        super(VggShape, self).__init__()\n",
    "\n",
    "        \n",
    "        self.features_to_extract = [0,2,5,7,10,12,14,16,19,21,23,25,28,30,32,34]\n",
    "        self.conv_layer = conv_layer\n",
    "        print('conv_layer:  ', self.conv_layer, type(self.conv_layer))\n",
    "        print('FTE:         ', self.features_to_extract)\n",
    "        print('conv in FTE', self.conv_layer in self.features_to_extract)\n",
    "        print('\\n\\n')\n",
    "\n",
    "        self.vgg_pretrained = pretrained_model\n",
    "        self.ann = fix_parameters(self.vgg_pretrained)\n",
    "        self.feature_extractor = FeatureExtractor(self.ann, layers = ['features.'+str(self.conv_layer)])\n",
    "\n",
    "        dummy_input  = torch.ones(1, 3, 224, 224)\n",
    "        dummy_output = self.feature_extractor(dummy_input)\n",
    "        print(dummy_output.keys(), dummy_output[list(dummy_output.keys())[0]].shape)\n",
    "        dummy_output_shape = list(dummy_output[list(dummy_output.keys())[0]].shape)\n",
    "        self.w_shape = dummy_output_shape[1:] + [num_neurons]\n",
    "        self.w = dummy_output_shape\n",
    "        \n",
    "        \n",
    "    def shape(self):\n",
    "        return self.w\n",
    "    def mod_shape(self):\n",
    "        return self.w_shape\n",
    "\n",
    "    \n",
    "vgg_pretrained = vgg19(pretrained = True)\n",
    "vgge = VggShape(vgg_pretrained)\n",
    "sw = vgge.shape()"
   ]
  },
  {
   "cell_type": "code",
   "execution_count": 15,
   "metadata": {},
   "outputs": [
    {
     "name": "stdout",
     "output_type": "stream",
     "text": [
      "features.0\n",
      "Conv2d(3, 64, kernel_size=(3, 3), stride=(1, 1), padding=(1, 1))\n",
      "dict_keys(['features.0']) torch.Size([1, 64, 224, 224])\n",
      "features.1\n",
      "ReLU(inplace=True)\n",
      "dict_keys(['features.1']) torch.Size([1, 64, 224, 224])\n",
      "features.2\n",
      "Conv2d(64, 64, kernel_size=(3, 3), stride=(1, 1), padding=(1, 1))\n",
      "dict_keys(['features.2']) torch.Size([1, 64, 224, 224])\n",
      "features.3\n",
      "ReLU(inplace=True)\n",
      "dict_keys(['features.3']) torch.Size([1, 64, 224, 224])\n",
      "features.4\n",
      "MaxPool2d(kernel_size=2, stride=2, padding=0, dilation=1, ceil_mode=False)\n",
      "dict_keys(['features.4']) torch.Size([1, 64, 112, 112])\n",
      "features.5\n",
      "Conv2d(64, 128, kernel_size=(3, 3), stride=(1, 1), padding=(1, 1))\n",
      "dict_keys(['features.5']) torch.Size([1, 128, 112, 112])\n",
      "features.6\n",
      "ReLU(inplace=True)\n",
      "dict_keys(['features.6']) torch.Size([1, 128, 112, 112])\n",
      "features.7\n",
      "Conv2d(128, 128, kernel_size=(3, 3), stride=(1, 1), padding=(1, 1))\n",
      "dict_keys(['features.7']) torch.Size([1, 128, 112, 112])\n",
      "features.8\n",
      "ReLU(inplace=True)\n",
      "dict_keys(['features.8']) torch.Size([1, 128, 112, 112])\n",
      "features.9\n",
      "MaxPool2d(kernel_size=2, stride=2, padding=0, dilation=1, ceil_mode=False)\n",
      "dict_keys(['features.9']) torch.Size([1, 128, 56, 56])\n",
      "features.10\n",
      "Conv2d(128, 256, kernel_size=(3, 3), stride=(1, 1), padding=(1, 1))\n",
      "dict_keys(['features.10']) torch.Size([1, 256, 56, 56])\n",
      "features.11\n",
      "ReLU(inplace=True)\n",
      "dict_keys(['features.11']) torch.Size([1, 256, 56, 56])\n",
      "features.12\n",
      "Conv2d(256, 256, kernel_size=(3, 3), stride=(1, 1), padding=(1, 1))\n",
      "dict_keys(['features.12']) torch.Size([1, 256, 56, 56])\n",
      "features.13\n",
      "ReLU(inplace=True)\n",
      "dict_keys(['features.13']) torch.Size([1, 256, 56, 56])\n",
      "features.14\n",
      "Conv2d(256, 256, kernel_size=(3, 3), stride=(1, 1), padding=(1, 1))\n",
      "dict_keys(['features.14']) torch.Size([1, 256, 56, 56])\n",
      "features.15\n",
      "ReLU(inplace=True)\n",
      "dict_keys(['features.15']) torch.Size([1, 256, 56, 56])\n",
      "features.16\n",
      "Conv2d(256, 256, kernel_size=(3, 3), stride=(1, 1), padding=(1, 1))\n",
      "dict_keys(['features.16']) torch.Size([1, 256, 56, 56])\n",
      "features.17\n",
      "ReLU(inplace=True)\n",
      "dict_keys(['features.17']) torch.Size([1, 256, 56, 56])\n",
      "features.18\n",
      "MaxPool2d(kernel_size=2, stride=2, padding=0, dilation=1, ceil_mode=False)\n",
      "dict_keys(['features.18']) torch.Size([1, 256, 28, 28])\n",
      "features.19\n",
      "Conv2d(256, 512, kernel_size=(3, 3), stride=(1, 1), padding=(1, 1))\n",
      "dict_keys(['features.19']) torch.Size([1, 512, 28, 28])\n",
      "features.20\n",
      "ReLU(inplace=True)\n",
      "dict_keys(['features.20']) torch.Size([1, 512, 28, 28])\n",
      "features.21\n",
      "Conv2d(512, 512, kernel_size=(3, 3), stride=(1, 1), padding=(1, 1))\n",
      "dict_keys(['features.21']) torch.Size([1, 512, 28, 28])\n",
      "features.22\n",
      "ReLU(inplace=True)\n",
      "dict_keys(['features.22']) torch.Size([1, 512, 28, 28])\n",
      "features.23\n",
      "Conv2d(512, 512, kernel_size=(3, 3), stride=(1, 1), padding=(1, 1))\n",
      "dict_keys(['features.23']) torch.Size([1, 512, 28, 28])\n",
      "features.24\n",
      "ReLU(inplace=True)\n",
      "dict_keys(['features.24']) torch.Size([1, 512, 28, 28])\n",
      "features.25\n",
      "Conv2d(512, 512, kernel_size=(3, 3), stride=(1, 1), padding=(1, 1))\n",
      "dict_keys(['features.25']) torch.Size([1, 512, 28, 28])\n",
      "features.26\n",
      "ReLU(inplace=True)\n",
      "dict_keys(['features.26']) torch.Size([1, 512, 28, 28])\n",
      "features.27\n",
      "MaxPool2d(kernel_size=2, stride=2, padding=0, dilation=1, ceil_mode=False)\n",
      "dict_keys(['features.27']) torch.Size([1, 512, 14, 14])\n",
      "features.28\n",
      "Conv2d(512, 512, kernel_size=(3, 3), stride=(1, 1), padding=(1, 1))\n",
      "dict_keys(['features.28']) torch.Size([1, 512, 14, 14])\n",
      "features.29\n",
      "ReLU(inplace=True)\n",
      "dict_keys(['features.29']) torch.Size([1, 512, 14, 14])\n",
      "features.30\n",
      "Conv2d(512, 512, kernel_size=(3, 3), stride=(1, 1), padding=(1, 1))\n",
      "dict_keys(['features.30']) torch.Size([1, 512, 14, 14])\n",
      "features.31\n",
      "ReLU(inplace=True)\n",
      "dict_keys(['features.31']) torch.Size([1, 512, 14, 14])\n",
      "features.32\n",
      "Conv2d(512, 512, kernel_size=(3, 3), stride=(1, 1), padding=(1, 1))\n",
      "dict_keys(['features.32']) torch.Size([1, 512, 14, 14])\n",
      "features.33\n",
      "ReLU(inplace=True)\n",
      "dict_keys(['features.33']) torch.Size([1, 512, 14, 14])\n",
      "features.34\n",
      "Conv2d(512, 512, kernel_size=(3, 3), stride=(1, 1), padding=(1, 1))\n",
      "dict_keys(['features.34']) torch.Size([1, 512, 14, 14])\n",
      "features.35\n",
      "ReLU(inplace=True)\n",
      "dict_keys(['features.35']) torch.Size([1, 512, 14, 14])\n"
     ]
    }
   ],
   "source": [
    "shapes       = []\n",
    "shapes_dummy = []\n",
    "for i in range(36):\n",
    "    vgge = VggShape(vgg_pretrained, conv_layer = i)\n",
    "    shapes.append(vgge.shape())\n",
    "    shapes_dummy.append(vgge.mod_shape())"
   ]
  },
  {
   "cell_type": "code",
   "execution_count": 16,
   "metadata": {},
   "outputs": [
    {
     "data": {
      "text/plain": [
       "[[1, 64, 224, 224],\n",
       " [1, 64, 224, 224],\n",
       " [1, 64, 224, 224],\n",
       " [1, 64, 224, 224],\n",
       " [1, 64, 112, 112],\n",
       " [1, 128, 112, 112],\n",
       " [1, 128, 112, 112],\n",
       " [1, 128, 112, 112],\n",
       " [1, 128, 112, 112],\n",
       " [1, 128, 56, 56],\n",
       " [1, 256, 56, 56],\n",
       " [1, 256, 56, 56],\n",
       " [1, 256, 56, 56],\n",
       " [1, 256, 56, 56],\n",
       " [1, 256, 56, 56],\n",
       " [1, 256, 56, 56],\n",
       " [1, 256, 56, 56],\n",
       " [1, 256, 56, 56],\n",
       " [1, 256, 28, 28],\n",
       " [1, 512, 28, 28],\n",
       " [1, 512, 28, 28],\n",
       " [1, 512, 28, 28],\n",
       " [1, 512, 28, 28],\n",
       " [1, 512, 28, 28],\n",
       " [1, 512, 28, 28],\n",
       " [1, 512, 28, 28],\n",
       " [1, 512, 28, 28],\n",
       " [1, 512, 14, 14],\n",
       " [1, 512, 14, 14],\n",
       " [1, 512, 14, 14],\n",
       " [1, 512, 14, 14],\n",
       " [1, 512, 14, 14],\n",
       " [1, 512, 14, 14],\n",
       " [1, 512, 14, 14],\n",
       " [1, 512, 14, 14],\n",
       " [1, 512, 14, 14]]"
      ]
     },
     "execution_count": 16,
     "metadata": {},
     "output_type": "execute_result"
    }
   ],
   "source": [
    "shapes"
   ]
  },
  {
   "cell_type": "code",
   "execution_count": 17,
   "metadata": {},
   "outputs": [
    {
     "data": {
      "text/plain": [
       "[[64, 224, 224, 43],\n",
       " [64, 224, 224, 43],\n",
       " [64, 224, 224, 43],\n",
       " [64, 224, 224, 43],\n",
       " [64, 112, 112, 43],\n",
       " [128, 112, 112, 43],\n",
       " [128, 112, 112, 43],\n",
       " [128, 112, 112, 43],\n",
       " [128, 112, 112, 43],\n",
       " [128, 56, 56, 43],\n",
       " [256, 56, 56, 43],\n",
       " [256, 56, 56, 43],\n",
       " [256, 56, 56, 43],\n",
       " [256, 56, 56, 43],\n",
       " [256, 56, 56, 43],\n",
       " [256, 56, 56, 43],\n",
       " [256, 56, 56, 43],\n",
       " [256, 56, 56, 43],\n",
       " [256, 28, 28, 43],\n",
       " [512, 28, 28, 43],\n",
       " [512, 28, 28, 43],\n",
       " [512, 28, 28, 43],\n",
       " [512, 28, 28, 43],\n",
       " [512, 28, 28, 43],\n",
       " [512, 28, 28, 43],\n",
       " [512, 28, 28, 43],\n",
       " [512, 28, 28, 43],\n",
       " [512, 14, 14, 43],\n",
       " [512, 14, 14, 43],\n",
       " [512, 14, 14, 43],\n",
       " [512, 14, 14, 43],\n",
       " [512, 14, 14, 43],\n",
       " [512, 14, 14, 43],\n",
       " [512, 14, 14, 43],\n",
       " [512, 14, 14, 43],\n",
       " [512, 14, 14, 43]]"
      ]
     },
     "execution_count": 17,
     "metadata": {},
     "output_type": "execute_result"
    }
   ],
   "source": [
    "shapes_dummy"
   ]
  },
  {
   "cell_type": "code",
   "execution_count": null,
   "metadata": {},
   "outputs": [],
   "source": []
  },
  {
   "cell_type": "code",
   "execution_count": null,
   "metadata": {},
   "outputs": [],
   "source": []
  },
  {
   "cell_type": "code",
   "execution_count": null,
   "metadata": {},
   "outputs": [],
   "source": []
  },
  {
   "cell_type": "code",
   "execution_count": 6,
   "metadata": {},
   "outputs": [
    {
     "name": "stderr",
     "output_type": "stream",
     "text": [
      "c:\\Users\\lopez\\Anaconda3\\envs\\test_install_cuda_with_pytorch\\lib\\site-packages\\tqdm\\auto.py:22: TqdmWarning: IProgress not found. Please update jupyter and ipywidgets. See https://ipywidgets.readthedocs.io/en/stable/user_install.html\n",
      "  from .autonotebook import tqdm as notebook_tqdm\n"
     ]
    },
    {
     "name": "stdout",
     "output_type": "stream",
     "text": [
      "Conv2d(3, 32, kernel_size=(13, 13), stride=(1, 1))\n",
      "Conv2d(32, 32, kernel_size=(3, 3), stride=(1, 1))\n",
      "Conv2d(32, 32, kernel_size=(3, 3), stride=(1, 1))\n",
      "Image shape:    torch.Size([54, 3, 40, 40])\n",
      "Results shape:   torch.Size([54, 32, 24, 24])\n"
     ]
    }
   ],
   "source": [
    "import torch\n",
    "from torch import nn \n",
    "\n",
    "import numpy as np\n",
    "import os\n",
    "from scipy import stats\n",
    "import hashlib\n",
    "import inspect\n",
    "import random\n",
    "#from cnn_sys_ident.utils import *\n",
    "#from cnn_sys_ident.base import Model\n",
    "\n",
    "class ConvNet(nn.Module):\n",
    "\n",
    "    #def __init__(self, in_channels,  out_channels, kernel_sizes, strides, paddings, smooth_weights, sparse_weights) -> None:\n",
    "    def __init__(self, in_channels,  out_channels, kernel_sizes, n_neurons, strides = [1,1,1], paddings = ['valid', 'same', 'same'], ) -> None:\n",
    "        super(nn.Module, self).__init__()\n",
    "        \n",
    "        assert len(kernel_sizes) == len(out_channels) == len(strides) == len(paddings)\n",
    "        #assert len(paddings) == len(smooth_weights) == len(sparse_weights)\n",
    "        #self.elu = torch.nn.functional.elu()\n",
    "\n",
    "        self.W = []\n",
    "        self.conv_layers = []\n",
    "        self.readout_sparseness_regularizer = 0.0\n",
    "\n",
    "        for i, (in_channel,\n",
    "                out_channel,\n",
    "                kernel_size, \n",
    "                stride, \n",
    "                padding,\n",
    "                ) in enumerate(zip(in_channels, \n",
    "                                            out_channels,\n",
    "                                            kernel_sizes,\n",
    "                                            strides,\n",
    "                                            paddings,)):\n",
    "            self.conv_layers.append(torch.nn.Conv2d(in_channel, \n",
    "                                               out_channel,\n",
    "                                               kernel_size,\n",
    "                                               ))\n",
    "            \n",
    "        for i in self.conv_layers: print(i)\n",
    "\n",
    "        #print(self.conv_layers[-1].shape)\n",
    "        #for j in dir(self.conv_layers[-1]):\n",
    "        #    print(j)\n",
    "\n",
    "        block = '''x = [1,1,1] # pa borrar\n",
    "\n",
    "        px_x_conv = x.shape[-2]\n",
    "        px_y_conv = x.shape[-1]\n",
    "        px_conv   = px_x_conv * px_y_conv\n",
    "\n",
    "        self.conv_flat      = ()\n",
    "\n",
    "        self.W_spatial      = torch.zeros(px_conv, n_neurons)\n",
    "        self.W_spatial      = nn.Parameter(torch.nn.init.trunc_normal_(self.W_spatial, 0, 0.01))\n",
    "        self.W_spatial_flat = self.W_spatial.view(px_conv, 1, 1, n_neurons)\n",
    "\n",
    "        self.W_features     = torch.nn.init.trunc_normal_(torch.zeros((out_channels[-1], n_neurons)), 0, 0.01)\n",
    "        '''\n",
    "\n",
    "    def forward(self, x):\n",
    "        for layer in self.conv_layers:\n",
    "            x = layer(x)\n",
    "            x = torch.nn.functional.elu(x)\n",
    "            bn = nn.BatchNorm2d(x.shape[1])\n",
    "            x = bn(x)\n",
    "\n",
    "\n",
    "\n",
    "\n",
    "\n",
    "        return x\n",
    "\n",
    "\n",
    "######################################################\n",
    "######################################################\n",
    "######################################################\n",
    "\n",
    "\n",
    "test = 1\n",
    "\n",
    "if test:\n",
    "\n",
    "    from torchvision import datasets, transforms\n",
    "    from torchvision.io import read_image\n",
    "    import PIL\n",
    "    \n",
    "    in_channels = [3, 32, 32]\n",
    "    out_channels = [32,32,32]\n",
    "    kernel_sizes = [13,3, 3]\n",
    "    strides = [1,1,1]\n",
    "    cn = ConvNet(in_channels, out_channels, kernel_sizes, n_neurons=43)\n",
    "\n",
    "    #-----------------------\n",
    "\n",
    "\n",
    "    transform = transforms.Compose([transforms.Resize(40),\n",
    "                                    transforms.ToTensor(),\n",
    "                                    transforms.Normalize(mean=[0.485, 0.456, 0.406],\n",
    "                                    std=[0.229, 0.224, 0.225])])\n",
    "    \n",
    "    imgs_path      = 'E:/Jose/Data/THINGS_imgs/train/'\n",
    "    val_imgs_path  = 'E:/Jose/Data/THINGS_imgs/val/'\n",
    "\n",
    "    dataset = datasets.ImageFolder(imgs_path, transform=transform)\n",
    "    dataset_val = datasets.ImageFolder(val_imgs_path, transform=transform)\n",
    "    dataloader = torch.utils.data.DataLoader(dataset, batch_size=54, shuffle=False)\n",
    "    #print(dataset)\n",
    "\n",
    "    im, _ = next(iter(dataloader))\n",
    "    print('Image shape:   ', im.shape)\n",
    "    \n",
    "    result = cn.forward(im)\n",
    "    print('Results shape:  ', result.shape)\n"
   ]
  },
  {
   "cell_type": "code",
   "execution_count": 7,
   "metadata": {},
   "outputs": [],
   "source": [
    "import tensorflow as tf"
   ]
  },
  {
   "cell_type": "code",
   "execution_count": 8,
   "metadata": {},
   "outputs": [
    {
     "name": "stdout",
     "output_type": "stream",
     "text": [
      "(54, 32, 24, 24)\n"
     ]
    }
   ],
   "source": [
    "ex = np.random.rand(54, 32, 24, 24)\n",
    "ex.reshape(-1, 576, 32, 1)\n",
    "print(ex.shape)"
   ]
  },
  {
   "cell_type": "code",
   "execution_count": 9,
   "metadata": {},
   "outputs": [],
   "source": [
    "W_spatial = np.random.rand(576, 43)"
   ]
  },
  {
   "cell_type": "code",
   "execution_count": 26,
   "metadata": {},
   "outputs": [
    {
     "ename": "RuntimeError",
     "evalue": "Given groups=1, weight of size [43, 1, 1, 169], expected input[54, 169, 32, 1] to have 1 channels, but got 169 channels instead",
     "output_type": "error",
     "traceback": [
      "\u001b[1;31m---------------------------------------------------------------------------\u001b[0m",
      "\u001b[1;31mRuntimeError\u001b[0m                              Traceback (most recent call last)",
      "\u001b[1;32mc:\\Users\\lopez\\Desktop\\lucent-things\\TRASH_TO_TEST.ipynb Cell 12'\u001b[0m in \u001b[0;36m<cell line: 7>\u001b[1;34m()\u001b[0m\n\u001b[0;32m      <a href='vscode-notebook-cell:/c%3A/Users/lopez/Desktop/lucent-things/TRASH_TO_TEST.ipynb#ch0000021?line=3'>4</a>\u001b[0m conv_flat \u001b[39m=\u001b[39m torch\u001b[39m.\u001b[39mrandn(\u001b[39m54\u001b[39m, \u001b[39m169\u001b[39m, \u001b[39m32\u001b[39m, \u001b[39m1\u001b[39m)\n\u001b[0;32m      <a href='vscode-notebook-cell:/c%3A/Users/lopez/Desktop/lucent-things/TRASH_TO_TEST.ipynb#ch0000021?line=4'>5</a>\u001b[0m w_spatial_flat  \u001b[39m=\u001b[39m torch\u001b[39m.\u001b[39mrandn(\u001b[39m43\u001b[39m,\u001b[39m1\u001b[39m,\u001b[39m1\u001b[39m,\u001b[39m169\u001b[39m)\n\u001b[1;32m----> <a href='vscode-notebook-cell:/c%3A/Users/lopez/Desktop/lucent-things/TRASH_TO_TEST.ipynb#ch0000021?line=6'>7</a>\u001b[0m torch\u001b[39m.\u001b[39;49mnn\u001b[39m.\u001b[39;49mfunctional\u001b[39m.\u001b[39;49mconv2d(conv_flat, w_spatial_flat)\n",
      "\u001b[1;31mRuntimeError\u001b[0m: Given groups=1, weight of size [43, 1, 1, 169], expected input[54, 169, 32, 1] to have 1 channels, but got 169 channels instead"
     ]
    }
   ],
   "source": [
    "conv_flat = torch.randn(54, 32, 1, 169)\n",
    "w_spatial_flat  = torch.randn(169, 1,1,43)\n",
    "\n",
    "conv_flat = torch.randn(54, 169, 32, 1)\n",
    "w_spatial_flat  = torch.randn(43,1,1,169)\n",
    "\n",
    "torch.nn.functional.conv2d(conv_flat, w_spatial_flat)\n"
   ]
  },
  {
   "cell_type": "code",
   "execution_count": 27,
   "metadata": {},
   "outputs": [],
   "source": [
    "import itertools"
   ]
  },
  {
   "cell_type": "code",
   "execution_count": 47,
   "metadata": {},
   "outputs": [
    {
     "name": "stdout",
     "output_type": "stream",
     "text": [
      "(54, 169, 32, 1)     (55, 169, 1, 1)            torch.Size([54, 55, 32, 1])\n",
      "(54, 169, 32, 1)     (55, 169, 1, 1)            torch.Size([54, 55, 32, 1])\n",
      "(54, 169, 1, 32)     (55, 169, 1, 1)            torch.Size([54, 55, 1, 32])\n",
      "(54, 169, 1, 32)     (55, 169, 1, 1)            torch.Size([54, 55, 1, 32])\n",
      "(54, 1, 169, 32)     (169, 1, 55, 1)            torch.Size([54, 169, 115, 32])\n",
      "(54, 1, 169, 32)     (169, 1, 55, 1)            torch.Size([54, 169, 115, 32])\n",
      "(54, 1, 169, 32)     (55, 1, 169, 1)            torch.Size([54, 55, 1, 32])\n",
      "(54, 1, 169, 32)     (55, 1, 169, 1)            torch.Size([54, 55, 1, 32])\n",
      "(54, 1, 32, 169)     (169, 1, 1, 55)            torch.Size([54, 169, 32, 115])\n",
      "(54, 1, 32, 169)     (169, 1, 1, 55)            torch.Size([54, 169, 32, 115])\n",
      "(54, 1, 32, 169)     (55, 1, 1, 169)            torch.Size([54, 55, 32, 1])\n",
      "(54, 1, 32, 169)     (55, 1, 1, 169)            torch.Size([54, 55, 32, 1])\n",
      "(32, 169, 54, 1)     (55, 169, 1, 1)            torch.Size([32, 55, 54, 1])\n",
      "(32, 169, 54, 1)     (55, 169, 1, 1)            torch.Size([32, 55, 54, 1])\n",
      "(32, 169, 1, 54)     (55, 169, 1, 1)            torch.Size([32, 55, 1, 54])\n",
      "(32, 169, 1, 54)     (55, 169, 1, 1)            torch.Size([32, 55, 1, 54])\n",
      "(32, 1, 54, 169)     (169, 1, 1, 55)            torch.Size([32, 169, 54, 115])\n",
      "(32, 1, 54, 169)     (169, 1, 1, 55)            torch.Size([32, 169, 54, 115])\n",
      "(32, 1, 54, 169)     (55, 1, 1, 169)            torch.Size([32, 55, 54, 1])\n",
      "(32, 1, 54, 169)     (55, 1, 1, 169)            torch.Size([32, 55, 54, 1])\n",
      "(32, 1, 169, 54)     (169, 1, 55, 1)            torch.Size([32, 169, 115, 54])\n",
      "(32, 1, 169, 54)     (169, 1, 55, 1)            torch.Size([32, 169, 115, 54])\n",
      "(32, 1, 169, 54)     (55, 1, 169, 1)            torch.Size([32, 55, 1, 54])\n",
      "(32, 1, 169, 54)     (55, 1, 169, 1)            torch.Size([32, 55, 1, 54])\n",
      "(1, 169, 54, 32)     (55, 169, 1, 1)            torch.Size([1, 55, 54, 32])\n",
      "(1, 169, 54, 32)     (55, 169, 1, 1)            torch.Size([1, 55, 54, 32])\n",
      "(1, 169, 32, 54)     (55, 169, 1, 1)            torch.Size([1, 55, 32, 54])\n",
      "(1, 169, 32, 54)     (55, 169, 1, 1)            torch.Size([1, 55, 32, 54])\n",
      "28 / 576\n"
     ]
    }
   ],
   "source": [
    "# ALL OPTIONS APPEAR DOWN HERE,USED SHAPES MARKED IN BLUE\n",
    "options, correct = 0, 0\n",
    "for i in itertools.permutations([54, 169, 32, 1]):\n",
    "    for j in itertools.permutations([169, 1, 1, 55]):\n",
    "        conv_flat = torch.randn(*i)\n",
    "        w_spatial_flat  = torch.randn(*j)\n",
    "        options = options+1\n",
    "        try:\n",
    "            result = torch.nn.functional.conv2d(conv_flat, w_spatial_flat)\n",
    "            print(i, '   ', j, '          ', result.shape)\n",
    "            correct = correct +1\n",
    "        except:\n",
    "            pass\n",
    "print(correct, '/', options)"
   ]
  },
  {
   "cell_type": "code",
   "execution_count": 21,
   "metadata": {},
   "outputs": [
    {
     "data": {
      "text/plain": [
       "<tf.Tensor: shape=(54, 1, 32, 55), dtype=float32, numpy=\n",
       "array([[[[ 1.60412036e-03,  4.17214964e-04, -3.73215618e-04, ...,\n",
       "           1.65351469e-03,  2.95185571e-04,  2.59165675e-03],\n",
       "         [ 1.90500182e-03,  1.70033216e-03,  1.61419064e-03, ...,\n",
       "           1.30022840e-06, -8.09307327e-04, -9.50414804e-04],\n",
       "         [ 5.85827147e-05,  9.90169865e-05, -2.43460783e-03, ...,\n",
       "          -2.77141789e-05,  2.42563151e-03,  7.45375350e-04],\n",
       "         ...,\n",
       "         [ 1.21857971e-03,  5.39551140e-04, -1.12430309e-03, ...,\n",
       "          -5.12155646e-04, -1.27393228e-03, -9.55212963e-05],\n",
       "         [ 2.88109673e-04,  3.74002033e-04, -2.92462966e-04, ...,\n",
       "           1.62687106e-03, -7.09999062e-04,  3.04017420e-04],\n",
       "         [ 2.44027426e-04, -2.86044611e-04, -8.09413963e-04, ...,\n",
       "          -1.17639406e-03, -1.10159116e-03,  1.59233809e-04]]],\n",
       "\n",
       "\n",
       "       [[[ 8.02094291e-05, -5.22078830e-04, -5.40507390e-05, ...,\n",
       "           3.65371793e-03, -4.53522603e-04,  2.61045090e-04],\n",
       "         [ 3.09503084e-04,  1.35283219e-03,  3.62823531e-03, ...,\n",
       "          -7.29332503e-04, -2.27894401e-03,  4.58788127e-04],\n",
       "         [ 7.92859009e-06, -1.40342221e-03, -6.57252502e-04, ...,\n",
       "           1.21090573e-03, -3.89729190e-04, -1.01792184e-03],\n",
       "         ...,\n",
       "         [-2.45709158e-03, -8.73684941e-04,  4.57890658e-03, ...,\n",
       "           3.18301434e-04, -1.60730537e-03, -9.60156554e-04],\n",
       "         [ 1.60237844e-03, -4.06217674e-04, -1.44116278e-03, ...,\n",
       "          -6.79901103e-04,  1.09307141e-04, -5.34577062e-04],\n",
       "         [ 1.61340053e-03,  8.21181631e-04,  1.21409132e-03, ...,\n",
       "           6.68449720e-05, -9.78702446e-04,  1.80106144e-03]]],\n",
       "\n",
       "\n",
       "       [[[ 6.43490523e-04, -4.20540127e-05,  6.18781894e-04, ...,\n",
       "           4.14781593e-04,  2.88466690e-04,  3.33608972e-04],\n",
       "         [ 1.97194587e-03, -1.09370725e-04,  1.03998859e-03, ...,\n",
       "           9.73488277e-05, -1.27932429e-03,  4.72236221e-04],\n",
       "         [ 1.05204410e-03,  1.95189496e-03,  2.23817668e-04, ...,\n",
       "          -1.76087138e-03,  1.79435010e-03,  1.33104715e-03],\n",
       "         ...,\n",
       "         [ 7.38531759e-04,  1.37560233e-03, -6.98305957e-05, ...,\n",
       "           1.12340914e-03, -2.15944645e-04, -9.97532974e-04],\n",
       "         [-1.49018515e-03, -1.79674954e-03, -9.76388750e-04, ...,\n",
       "          -3.38565488e-03,  1.68341445e-03,  5.63292124e-04],\n",
       "         [ 2.42281565e-03, -1.53683568e-03, -1.00805529e-03, ...,\n",
       "          -1.69112766e-03,  1.55046245e-03,  1.97181222e-03]]],\n",
       "\n",
       "\n",
       "       ...,\n",
       "\n",
       "\n",
       "       [[[-1.57741853e-03,  1.01039722e-03,  1.26976846e-03, ...,\n",
       "          -1.40784483e-04, -4.33607318e-04, -1.42979994e-03],\n",
       "         [ 3.45437613e-04, -3.27633275e-03,  6.56613789e-04, ...,\n",
       "          -3.18144448e-03,  6.81565667e-04,  1.80442969e-03],\n",
       "         [ 1.00107864e-03, -8.79700005e-04, -4.85178374e-04, ...,\n",
       "           4.67079168e-04,  2.04656157e-03, -9.97378258e-04],\n",
       "         ...,\n",
       "         [-8.78076651e-04, -2.84484960e-03, -7.20070850e-04, ...,\n",
       "           4.32038360e-04, -2.59463530e-04,  3.25153902e-04],\n",
       "         [-5.71330427e-04, -2.69743940e-03,  3.84420942e-04, ...,\n",
       "          -1.05938967e-03,  6.76328724e-04,  4.19450691e-03],\n",
       "         [ 9.86625440e-04,  4.86366625e-04, -3.04805988e-04, ...,\n",
       "          -2.24898933e-04, -1.37474411e-03, -1.16709317e-03]]],\n",
       "\n",
       "\n",
       "       [[[ 1.63919781e-03,  1.90033310e-03, -1.25223165e-03, ...,\n",
       "           1.35293324e-03, -5.17308887e-04,  5.77257772e-04],\n",
       "         [ 1.15067465e-03,  2.38967035e-03,  7.33742316e-04, ...,\n",
       "           2.24241187e-04,  3.61701008e-04,  1.15744700e-03],\n",
       "         [ 7.90572783e-04,  1.85531820e-03, -9.30939917e-04, ...,\n",
       "          -2.21588925e-05, -1.10466545e-03,  7.53578148e-04],\n",
       "         ...,\n",
       "         [ 2.47074873e-04,  1.58007501e-03, -2.02845084e-03, ...,\n",
       "           1.24125450e-03, -1.10582868e-03,  1.30430772e-03],\n",
       "         [ 1.19339605e-03,  9.26036271e-04, -1.42483425e-03, ...,\n",
       "           1.06028235e-03, -6.19265309e-04, -5.16781176e-04],\n",
       "         [-9.25533357e-04,  1.34515716e-03,  9.26974579e-04, ...,\n",
       "           3.32631264e-03, -6.86084095e-05, -8.19712994e-04]]],\n",
       "\n",
       "\n",
       "       [[[ 1.90604653e-03,  1.01213669e-03,  2.85253947e-04, ...,\n",
       "           1.55299099e-03,  3.78235593e-03, -2.49474053e-03],\n",
       "         [-2.56609084e-04,  1.07006647e-03, -1.64849951e-03, ...,\n",
       "          -1.04502228e-03,  6.05351641e-04,  2.95154197e-04],\n",
       "         [-1.93294545e-03,  2.23789737e-03,  8.64927599e-04, ...,\n",
       "           1.58813864e-03, -1.38834224e-03,  7.62087293e-04],\n",
       "         ...,\n",
       "         [-1.15881010e-03,  3.63702257e-03,  1.31264701e-03, ...,\n",
       "           3.57034733e-04, -5.02625306e-04,  1.15292333e-03],\n",
       "         [ 1.28981730e-04, -1.21506990e-03,  1.18748308e-03, ...,\n",
       "          -4.63063370e-05, -1.35421066e-03, -1.82549946e-03],\n",
       "         [-6.18108781e-04, -1.48281513e-03,  7.97081564e-04, ...,\n",
       "          -7.60556286e-05,  1.69484687e-04,  2.42992234e-03]]]],\n",
       "      dtype=float32)>"
      ]
     },
     "execution_count": 21,
     "metadata": {},
     "output_type": "execute_result"
    }
   ],
   "source": [
    "conv_flat = tf.random.normal((54, 169, 32, 1), 0, .01)\n",
    "w_spatial_flat = tf.random.normal((169, 1, 1, 55), 0, .01)\n",
    "tf.nn.conv2d(conv_flat, w_spatial_flat, strides = [1,1,1,1], padding='VALID')"
   ]
  },
  {
   "cell_type": "code",
   "execution_count": 16,
   "metadata": {},
   "outputs": [],
   "source": []
  },
  {
   "cell_type": "code",
   "execution_count": 17,
   "metadata": {},
   "outputs": [
    {
     "data": {
      "text/plain": [
       "<tf.Tensor: shape=(54, 1, 32, 55), dtype=float32, numpy=\n",
       "array([[[[ 1.26850139e-03, -2.70349556e-03, -3.20244301e-03, ...,\n",
       "          -1.14344864e-03,  2.60487781e-03, -1.19431003e-03],\n",
       "         [ 2.12274259e-03,  2.57920055e-03,  1.58308540e-03, ...,\n",
       "           7.23338744e-04, -5.70198696e-04, -1.05345331e-03],\n",
       "         [ 1.64031831e-03,  1.79351788e-04, -1.02913077e-03, ...,\n",
       "           8.55317849e-05, -1.96256279e-03,  9.11435985e-04],\n",
       "         ...,\n",
       "         [ 1.98840979e-03,  3.93293012e-04,  1.34366433e-04, ...,\n",
       "           1.37273537e-03, -1.75602006e-04,  1.40861026e-04],\n",
       "         [ 2.24512233e-03,  6.86684973e-04,  7.31278051e-05, ...,\n",
       "           1.70216372e-03,  3.96068994e-04,  1.90826121e-03],\n",
       "         [-2.75617698e-03, -1.87044463e-03, -1.94357580e-03, ...,\n",
       "           6.30953757e-04,  1.67098839e-03,  1.53884757e-03]]],\n",
       "\n",
       "\n",
       "       [[[-1.23207679e-03, -1.91548810e-04, -1.95643865e-03, ...,\n",
       "          -2.64315953e-04,  1.83474983e-03, -9.24907508e-05],\n",
       "         [-5.19676250e-04,  1.09382276e-03, -7.94476218e-05, ...,\n",
       "          -1.17671897e-03, -1.53091527e-03, -2.94668530e-03],\n",
       "         [-3.79301928e-04,  1.29538367e-03, -4.01060825e-04, ...,\n",
       "           4.96318797e-04, -9.26797045e-04,  1.96734187e-03],\n",
       "         ...,\n",
       "         [-7.19393080e-04, -1.10808027e-03, -1.32705827e-04, ...,\n",
       "           5.24949792e-06, -8.05880758e-04,  6.13930752e-05],\n",
       "         [ 1.68714346e-03, -1.71369710e-03, -8.16670305e-04, ...,\n",
       "           1.92252424e-04, -9.52208415e-04, -1.58052891e-04],\n",
       "         [-8.22998059e-04, -1.00693235e-03, -2.02334748e-04, ...,\n",
       "           1.89124653e-03,  1.11248798e-03, -9.46551678e-04]]],\n",
       "\n",
       "\n",
       "       [[[-1.15793559e-03,  1.70757796e-03,  3.26212379e-04, ...,\n",
       "           2.11118744e-03, -1.80226145e-03,  6.57861470e-04],\n",
       "         [-1.16617116e-03, -1.01512752e-03,  9.57464508e-04, ...,\n",
       "           1.36222620e-03, -4.32343659e-04, -1.29453244e-03],\n",
       "         [ 1.97523530e-03, -1.94732484e-03,  3.08389962e-03, ...,\n",
       "           2.28198222e-03,  2.06316297e-04, -1.31088821e-03],\n",
       "         ...,\n",
       "         [-2.25653849e-03,  3.28447291e-04, -7.03365251e-04, ...,\n",
       "          -1.25442806e-03,  1.01848424e-03, -6.49670255e-05],\n",
       "         [-7.64002034e-04,  4.65544494e-04, -6.11189171e-04, ...,\n",
       "           7.91783852e-04, -3.06471658e-04,  1.34014792e-03],\n",
       "         [ 1.80441618e-03,  8.86941329e-04, -2.06121986e-04, ...,\n",
       "           1.44186674e-03,  8.40628345e-04, -8.40251625e-04]]],\n",
       "\n",
       "\n",
       "       ...,\n",
       "\n",
       "\n",
       "       [[[ 1.91297033e-03, -1.16829493e-03,  2.79722182e-04, ...,\n",
       "           5.99843566e-04, -5.02523792e-04, -9.97939715e-05],\n",
       "         [-2.18770024e-03,  2.49600387e-03, -4.48109466e-04, ...,\n",
       "           1.13228720e-03,  1.02379627e-03, -7.41470081e-04],\n",
       "         [ 5.82473993e-04, -5.75679704e-04, -2.60568480e-03, ...,\n",
       "           3.06401082e-04,  1.56414183e-03,  1.48855315e-05],\n",
       "         ...,\n",
       "         [ 1.69038613e-04, -5.94364363e-04,  6.98433549e-04, ...,\n",
       "          -2.84841895e-04,  9.79087199e-04,  2.28081961e-04],\n",
       "         [-1.94080028e-04, -1.20137795e-03, -6.16037403e-04, ...,\n",
       "           1.62734941e-04,  6.59114972e-04,  1.18442054e-03],\n",
       "         [ 6.76999218e-04,  9.68610111e-04, -2.21904018e-03, ...,\n",
       "           2.17487614e-04,  3.09729483e-04, -1.01475057e-03]]],\n",
       "\n",
       "\n",
       "       [[[ 1.83212222e-03,  1.56479143e-03, -1.08280947e-04, ...,\n",
       "          -6.46609580e-04, -1.11165200e-03, -1.41802710e-04],\n",
       "         [-2.16380940e-04, -8.55975260e-04,  9.12842806e-04, ...,\n",
       "          -1.77963020e-03, -5.56146202e-04,  6.37091871e-04],\n",
       "         [ 3.09956231e-04, -7.05425860e-04, -1.19449955e-03, ...,\n",
       "           1.24639052e-03,  4.03478276e-03,  4.72867123e-06],\n",
       "         ...,\n",
       "         [ 2.31993687e-03,  8.04706942e-04,  1.49424234e-03, ...,\n",
       "           8.70000687e-04, -3.97249503e-04, -5.32781007e-04],\n",
       "         [ 6.29330345e-04,  1.50336151e-03, -1.37937069e-03, ...,\n",
       "          -1.33506337e-03,  8.57532083e-04,  1.37715624e-03],\n",
       "         [-2.26612887e-04,  6.33838295e-04, -8.78557446e-04, ...,\n",
       "          -1.12773769e-03,  1.46281411e-04, -1.74132909e-03]]],\n",
       "\n",
       "\n",
       "       [[[ 5.05281459e-05,  1.50352978e-04,  6.17025478e-04, ...,\n",
       "          -5.32783160e-04, -2.07557785e-03,  3.88826500e-03],\n",
       "         [ 1.42985524e-03, -1.30476255e-03,  1.31125282e-03, ...,\n",
       "          -3.10575560e-04, -1.36974384e-03, -1.08953856e-03],\n",
       "         [-1.96156441e-04, -1.50436928e-04, -1.51811133e-03, ...,\n",
       "           6.35385513e-04,  3.50765011e-04,  1.71325903e-03],\n",
       "         ...,\n",
       "         [ 4.62772179e-04, -2.65114912e-04, -8.34140694e-04, ...,\n",
       "           1.10987376e-03,  7.54058477e-04,  1.14538132e-04],\n",
       "         [-2.38368099e-04,  9.28897236e-04, -1.52719207e-03, ...,\n",
       "          -1.33013772e-03, -7.27601466e-04,  1.14016864e-03],\n",
       "         [ 6.40448066e-04,  3.81871825e-04, -2.79959699e-04, ...,\n",
       "          -6.07814058e-04, -1.79417885e-03, -1.50382170e-04]]]],\n",
       "      dtype=float32)>"
      ]
     },
     "execution_count": 17,
     "metadata": {},
     "output_type": "execute_result"
    }
   ],
   "source": []
  },
  {
   "cell_type": "code",
   "execution_count": 70,
   "metadata": {},
   "outputs": [
    {
     "name": "stdout",
     "output_type": "stream",
     "text": [
      "(1, 5, 5, 1)\n"
     ]
    },
    {
     "data": {
      "text/plain": [
       "<tf.Tensor: shape=(1, 4, 4, 2), dtype=float32, numpy=\n",
       "array([[[[10.       ,  1.9000001],\n",
       "         [10.       ,  2.2      ],\n",
       "         [ 6.       ,  1.6      ],\n",
       "         [ 6.       ,  2.       ]],\n",
       "\n",
       "        [[12.       ,  1.4      ],\n",
       "         [15.       ,  2.2      ],\n",
       "         [13.       ,  2.7      ],\n",
       "         [13.       ,  1.7      ]],\n",
       "\n",
       "        [[ 7.       ,  1.7      ],\n",
       "         [11.       ,  1.3      ],\n",
       "         [16.       ,  1.3000001],\n",
       "         [ 7.       ,  1.       ]],\n",
       "\n",
       "        [[10.       ,  0.6      ],\n",
       "         [ 7.       ,  1.4      ],\n",
       "         [ 4.       ,  1.5      ],\n",
       "         [ 7.       ,  1.4000001]]]], dtype=float32)>"
      ]
     },
     "execution_count": 70,
     "metadata": {},
     "output_type": "execute_result"
    }
   ],
   "source": [
    "x_in = np.array([[\n",
    "  [[2], [1], [2], [0], [1]],\n",
    "  [[1], [3], [2], [2], [3]],\n",
    "  [[1], [1], [3], [3], [0]],\n",
    "  [[2], [2], [0], [1], [1]],\n",
    "  [[0], [0], [3], [1], [2]], ]])\n",
    "\n",
    "print(x_in.shape)\n",
    "\n",
    "kernel_in = np.array([\n",
    "    [ [[2, 0.1]], [[3, 0.2]] ],\n",
    "    [ [[0, 0.3]], [[1, 0.4]] ], ])\n",
    "x = tf.constant(x_in, dtype=tf.float32)\n",
    "kernel = tf.constant(kernel_in, dtype=tf.float32)\n",
    "tf.nn.conv2d(x, kernel, strides=[1, 1, 1, 1], padding='VALID')\n",
    "\n"
   ]
  },
  {
   "cell_type": "code",
   "execution_count": 64,
   "metadata": {},
   "outputs": [
    {
     "data": {
      "text/plain": [
       "<tf.Tensor: shape=(), dtype=float32, numpy=-0.001621549>"
      ]
     },
     "execution_count": 64,
     "metadata": {},
     "output_type": "execute_result"
    }
   ],
   "source": [
    "tf.reduce_sum(tf.multiply(h_spatial, w_features), [0,1])"
   ]
  },
  {
   "cell_type": "code",
   "execution_count": null,
   "metadata": {},
   "outputs": [],
   "source": [
    "import lucent"
   ]
  },
  {
   "cell_type": "code",
   "execution_count": null,
   "metadata": {},
   "outputs": [],
   "source": []
  },
  {
   "cell_type": "code",
   "execution_count": null,
   "metadata": {},
   "outputs": [],
   "source": []
  },
  {
   "cell_type": "code",
   "execution_count": null,
   "metadata": {},
   "outputs": [],
   "source": []
  },
  {
   "cell_type": "code",
   "execution_count": null,
   "metadata": {},
   "outputs": [],
   "source": []
  },
  {
   "cell_type": "code",
   "execution_count": 1,
   "metadata": {},
   "outputs": [],
   "source": [
    "########################################################"
   ]
  },
  {
   "cell_type": "code",
   "execution_count": 11,
   "metadata": {},
   "outputs": [],
   "source": [
    "import torch\n",
    "import numpy as np\n",
    "import matplotlib.pyplot as plt"
   ]
  },
  {
   "cell_type": "code",
   "execution_count": 13,
   "metadata": {},
   "outputs": [
    {
     "data": {
      "text/plain": [
       "[<matplotlib.lines.Line2D at 0x180e94baeb0>]"
      ]
     },
     "execution_count": 13,
     "metadata": {},
     "output_type": "execute_result"
    },
    {
     "data": {
      "image/png": "[encoded data removed]",
      "text/plain": [
       "<Figure size 640x480 with 1 Axes>"
      ]
     },
     "metadata": {},
     "output_type": "display_data"
    }
   ],
   "source": [
    "plt.plot(torch.nn.functional.elu(torch.Tensor(list(np.arange(-5,5,.1)-1)))+1)"
   ]
  },
  {
   "cell_type": "code",
   "execution_count": 2,
   "metadata": {},
   "outputs": [],
   "source": [
    "######################################################"
   ]
  },
  {
   "cell_type": "code",
   "execution_count": 6,
   "metadata": {},
   "outputs": [],
   "source": [
    "from lucent.modelzoo import inceptionv1, util\n",
    "from helper import makeGaussian, FeatureExtractor, fix_parameters, load_sta\n",
    "\n",
    "pretrained_model = inceptionv1(pretrained=True)"
   ]
  },
  {
   "cell_type": "code",
   "execution_count": 9,
   "metadata": {},
   "outputs": [],
   "source": [
    "ann = fix_parameters(pretrained_model)"
   ]
  },
  {
   "cell_type": "code",
   "execution_count": 55,
   "metadata": {},
   "outputs": [
    {
     "data": {
      "text/plain": [
       "<generator object Module.modules at 0x00000264B79B5820>"
      ]
     },
     "execution_count": 55,
     "metadata": {},
     "output_type": "execute_result"
    }
   ],
   "source": [
    "pretrained_model.modules()"
   ]
  },
  {
   "cell_type": "code",
   "execution_count": 34,
   "metadata": {},
   "outputs": [
    {
     "name": "stdout",
     "output_type": "stream",
     "text": [
      "conv2d2\n",
      "RedirectedReluLayer()\n"
     ]
    }
   ],
   "source": [
    "inc = FeatureExtractor(ann, layers = ['conv2d2'])"
   ]
  },
  {
   "cell_type": "code",
   "execution_count": 67,
   "metadata": {},
   "outputs": [
    {
     "name": "stdout",
     "output_type": "stream",
     "text": [
      "Layer:   conv2d2 <class 'str'>\n",
      "FTE:          ['conv2d2', 'mixed4d', 'mixed4a']\n",
      "conv in FTE True\n",
      "\n",
      "\n",
      "\n",
      "conv2d2\n",
      "RedirectedReluLayer()\n",
      "dict_keys(['conv2d2']) torch.Size([1, 192, 56, 56])\n"
     ]
    }
   ],
   "source": [
    "import torch\n",
    "from torch import nn, Tensor\n",
    "import torch.nn.functional as F\n",
    "from helper import makeGaussian, FeatureExtractor, fix_parameters, load_sta\n",
    "from lucent.modelzoo import vgg19, inceptionv1, util\n",
    "import matplotlib.pyplot as plt\n",
    "import numpy as np\n",
    "\n",
    "class InceptionNet(nn.Module):\n",
    "\n",
    "    def __init__(self, pretrained_model, layer = 'conv2d2', num_neurons = 43, device = None):\n",
    "        super(InceptionNet, self).__init__()\n",
    "\n",
    "        self.features_to_extract = ['conv2d2', 'mixed4d', 'mixed4a']\n",
    "        self.layer = layer\n",
    "        print('Layer:  ', self.layer, type(self.layer))\n",
    "        print('FTE:         ', self.features_to_extract)\n",
    "        print('conv in FTE', self.layer in self.features_to_extract)\n",
    "        print('\\n\\n')\n",
    "\n",
    "        self.inception_pretrained = pretrained_model\n",
    "        self.ann = fix_parameters(self.inception_pretrained)\n",
    "        self.feature_extractor = FeatureExtractor(self.ann, layers = [self.layer])\n",
    "\n",
    "        dummy_input  = torch.ones(1, 3, 224, 224)\n",
    "        dummy_output = self.feature_extractor(dummy_input)\n",
    "        print(dummy_output.keys(), dummy_output[list(dummy_output.keys())[0]].shape)\n",
    "        dummy_output_shape = list(dummy_output[list(dummy_output.keys())[0]].shape)\n",
    "        self.w_shape = dummy_output_shape[1:] + [num_neurons]\n",
    "        self.w = dummy_output_shape\n",
    "        \n",
    "        \n",
    "    def shape(self):\n",
    "        return self.w\n",
    "    def mod_shape(self):\n",
    "        return self.w_shape\n",
    "\n",
    "    \n",
    "incept_pretrained = inceptionv1(pretrained = True)\n",
    "incept = InceptionNet(incept_pretrained)\n",
    "sw     = incept.shape()"
   ]
  },
  {
   "cell_type": "code",
   "execution_count": 68,
   "metadata": {},
   "outputs": [
    {
     "name": "stdout",
     "output_type": "stream",
     "text": [
      "Layer:   conv2d2 <class 'str'>\n",
      "FTE:          ['conv2d2', 'mixed4d', 'mixed4a']\n",
      "conv in FTE True\n",
      "\n",
      "\n",
      "\n",
      "conv2d2\n",
      "RedirectedReluLayer()\n",
      "dict_keys(['conv2d2']) torch.Size([1, 192, 56, 56])\n",
      "Layer:   mixed4d <class 'str'>\n",
      "FTE:          ['conv2d2', 'mixed4d', 'mixed4a']\n",
      "conv in FTE True\n",
      "\n",
      "\n",
      "\n",
      "mixed4d\n",
      "CatLayer()\n",
      "dict_keys(['mixed4d']) torch.Size([1, 528, 14, 14])\n",
      "Layer:   mixed4a <class 'str'>\n",
      "FTE:          ['conv2d2', 'mixed4d', 'mixed4a']\n",
      "conv in FTE True\n",
      "\n",
      "\n",
      "\n",
      "mixed4a\n",
      "CatLayer()\n",
      "dict_keys(['mixed4a']) torch.Size([1, 508, 14, 14])\n"
     ]
    }
   ],
   "source": [
    "layers_list = ['conv2d2', 'mixed4d', 'mixed4a']\n",
    "\n",
    "for i in layers_list:\n",
    "    incept = InceptionNet(incept_pretrained, layer=i)\n",
    "    sw     = incept.shape()"
   ]
  },
  {
   "cell_type": "code",
   "execution_count": 35,
   "metadata": {},
   "outputs": [],
   "source": [
    "import torch"
   ]
  },
  {
   "cell_type": "code",
   "execution_count": 36,
   "metadata": {},
   "outputs": [],
   "source": [
    "dummy_input  = torch.ones(1, 3, 224, 224)\n",
    "dummy_output = inc(dummy_input)\n"
   ]
  },
  {
   "cell_type": "code",
   "execution_count": 40,
   "metadata": {},
   "outputs": [
    {
     "data": {
      "text/plain": [
       "torch.Size([1, 192, 56, 56])"
      ]
     },
     "execution_count": 40,
     "metadata": {},
     "output_type": "execute_result"
    }
   ],
   "source": [
    "dummy_output['conv2d2'].shape"
   ]
  },
  {
   "cell_type": "code",
   "execution_count": 1,
   "metadata": {},
   "outputs": [],
   "source": [
    "r = {'a':1, 'b':2}"
   ]
  },
  {
   "cell_type": "code",
   "execution_count": 3,
   "metadata": {},
   "outputs": [
    {
     "data": {
      "text/plain": [
       "dict_items([('a', 1), ('b', 2)])"
      ]
     },
     "execution_count": 3,
     "metadata": {},
     "output_type": "execute_result"
    }
   ],
   "source": [
    "r.items()"
   ]
  },
  {
   "cell_type": "code",
   "execution_count": 7,
   "metadata": {},
   "outputs": [
    {
     "data": {
      "text/plain": [
       "('3', '4', '5678')"
      ]
     },
     "execution_count": 7,
     "metadata": {},
     "output_type": "execute_result"
    }
   ],
   "source": [
    "import re\n",
    "\n",
    "re.match(r'ROI_(\\d+)_layer_(\\d+).(\\d+)_Vgg', 'ROI_3_layer_4.5678_Vgg').groups()"
   ]
  },
  {
   "cell_type": "code",
   "execution_count": 15,
   "metadata": {},
   "outputs": [
    {
     "name": "stdout",
     "output_type": "stream",
     "text": [
      "0 (0.1, 1.0, 0.01)\n",
      "1 (0.1, 1.0, 0.001)\n",
      "2 (0.1, 1.0, 0.0001)\n",
      "3 (0.1, 0.1, 0.01)\n",
      "4 (0.1, 0.1, 0.001)\n",
      "5 (0.1, 0.1, 0.0001)\n",
      "6 (0.1, 0.01, 0.01)\n",
      "7 (0.1, 0.01, 0.001)\n",
      "8 (0.1, 0.01, 0.0001)\n",
      "9 (0.01, 1.0, 0.01)\n",
      "10 (0.01, 1.0, 0.001)\n",
      "11 (0.01, 1.0, 0.0001)\n",
      "12 (0.01, 0.1, 0.01)\n",
      "13 (0.01, 0.1, 0.001)\n",
      "14 (0.01, 0.1, 0.0001)\n",
      "15 (0.01, 0.01, 0.01)\n",
      "16 (0.01, 0.01, 0.001)\n",
      "17 (0.01, 0.01, 0.0001)\n",
      "18 (0.001, 1.0, 0.01)\n",
      "19 (0.001, 1.0, 0.001)\n",
      "20 (0.001, 1.0, 0.0001)\n",
      "21 (0.001, 0.1, 0.01)\n",
      "22 (0.001, 0.1, 0.001)\n",
      "23 (0.001, 0.1, 0.0001)\n",
      "24 (0.001, 0.01, 0.01)\n",
      "25 (0.001, 0.01, 0.001)\n",
      "26 (0.001, 0.01, 0.0001)\n"
     ]
    }
   ],
   "source": [
    "sparsity       = [10e-2, 10e-3, 10e-4]\n",
    "smoothness     = [10e-1, 10e-2, 10e-3]\n",
    "group_sparsity = [10e-3, 10e-4, 10e-5]\n",
    "\n",
    "hyperparam_list = [sparsity, smoothness, group_sparsity]\n",
    "\n",
    "import itertools\n",
    "for n, i in enumerate(itertools.product(*hyperparam_list)):\n",
    "    print(n, i)"
   ]
  },
  {
   "cell_type": "code",
   "execution_count": 16,
   "metadata": {},
   "outputs": [
    {
     "data": {
      "text/plain": [
       "'value a is 1.000000e-05'"
      ]
     },
     "execution_count": 16,
     "metadata": {},
     "output_type": "execute_result"
    }
   ],
   "source": [
    "a = 0.00001\n",
    "\n",
    "roi = 3\n",
    "layer = 14\n",
    "\n",
    "spa = 10e-3\n",
    "smo = 10e-2\n",
    "gsp = 10e-4\n",
    "\n",
    "import subprocess as sp\n",
    "sp.call(['python', 'train_cadena_model_vgg.py', '-r', str(roi), '-l', str(layer), '-spa', str(spa), '-smo', str(smo), '-gsp', str(gsp)], shell=True)\n",
    "\n",
    "#f'value a is {a:e}'"
   ]
  },
  {
   "cell_type": "code",
   "execution_count": 13,
   "metadata": {},
   "outputs": [
    {
     "data": {
      "text/plain": [
       "1"
      ]
     },
     "execution_count": 13,
     "metadata": {},
     "output_type": "execute_result"
    }
   ],
   "source": [
    "import os \n",
    "\n",
    "os.system(' '.join(['python', 'train_cadena_model_vgg.py', '-r', str(roi), '-l', str(layer), '-spa', str(spa), '-smo', str(smo), '-gsp', str(gsp)]))"
   ]
  },
  {
   "cell_type": "code",
   "execution_count": 6,
   "metadata": {},
   "outputs": [
    {
     "data": {
      "text/plain": [
       "True"
      ]
     },
     "execution_count": 6,
     "metadata": {},
     "output_type": "execute_result"
    }
   ],
   "source": [
    "10e-4==1e-3"
   ]
  },
  {
   "cell_type": "code",
   "execution_count": null,
   "metadata": {},
   "outputs": [],
   "source": [
    "import subprocess as sp\n",
    "sp.call(['python', 'train_cadena_model_vgg', '-r', roi, '-l', layer, '-spa', spa, '-smo', smo, '-gsp', gsp])"
   ]
  }
 ],
 "metadata": {
  "kernelspec": {
   "display_name": "base",
   "language": "python",
   "name": "python3"
  },
  "language_info": {
   "codemirror_mode": {
    "name": "ipython",
    "version": 3
   },
   "file_extension": ".py",
   "mimetype": "text/x-python",
   "name": "python",
   "nbconvert_exporter": "python",
   "pygments_lexer": "ipython3",
   "version": "3.9.13"
  },
  "orig_nbformat": 4,
  "vscode": {
   "interpreter": {
    "hash": "b1ebba55313e133a64a1b90f6812a303e776c8bfea60a3ce9dccd29ed02aed0a"
   }
  }
 },
 "nbformat": 4,
 "nbformat_minor": 2
}
